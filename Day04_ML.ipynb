{
  "nbformat": 4,
  "nbformat_minor": 0,
  "metadata": {
    "colab": {
      "name": "Day04 - ML.ipynb",
      "provenance": [],
      "authorship_tag": "ABX9TyMd+qqW7yeF0rRDR+1w3v1W",
      "include_colab_link": true
    },
    "kernelspec": {
      "name": "python3",
      "display_name": "Python 3"
    },
    "language_info": {
      "name": "python"
    }
  },
  "cells": [
    {
      "cell_type": "markdown",
      "metadata": {
        "id": "view-in-github",
        "colab_type": "text"
      },
      "source": [
        "<a href=\"https://colab.research.google.com/github/SeniruAbeywickrama/ML-Series/blob/Day-04/Day04_ML.ipynb\" target=\"_parent\"><img src=\"https://colab.research.google.com/assets/colab-badge.svg\" alt=\"Open In Colab\"/></a>"
      ]
    },
    {
      "cell_type": "code",
      "execution_count": null,
      "metadata": {
        "id": "E7YW6zUmRdIl"
      },
      "outputs": [],
      "source": [
        "import numpy as np"
      ]
    },
    {
      "cell_type": "code",
      "source": [
        "## 0 -> D Tensors(No Dimension)\n",
        "a=np.array(2)"
      ],
      "metadata": {
        "id": "OqIiKnlGRiDq"
      },
      "execution_count": null,
      "outputs": []
    },
    {
      "cell_type": "code",
      "source": [
        "a"
      ],
      "metadata": {
        "colab": {
          "base_uri": "https://localhost:8080/"
        },
        "id": "pp2fhGoYRqJy",
        "outputId": "249c49e8-cfd1-4897-d35b-2d96124a079b"
      },
      "execution_count": null,
      "outputs": [
        {
          "output_type": "execute_result",
          "data": {
            "text/plain": [
              "array(2)"
            ]
          },
          "metadata": {},
          "execution_count": 6
        }
      ]
    },
    {
      "cell_type": "code",
      "source": [
        "## ndim - number of dimentions\n",
        "a.ndim"
      ],
      "metadata": {
        "colab": {
          "base_uri": "https://localhost:8080/"
        },
        "id": "yvvM79FSRvTy",
        "outputId": "662d069e-7e40-47db-9774-6034646a4149"
      },
      "execution_count": null,
      "outputs": [
        {
          "output_type": "execute_result",
          "data": {
            "text/plain": [
              "0"
            ]
          },
          "metadata": {},
          "execution_count": 7
        }
      ]
    },
    {
      "cell_type": "code",
      "source": [
        "## 1 -> D Tensors\n",
        "### No of axis = dimension\n",
        "### [1,2] -> 1D Tensor (Diamension of vector = 2,Tensor's Diamention = 1 )\n",
        "arr=np.array([1,2,3,4])"
      ],
      "metadata": {
        "id": "WM_meKi6R-0P"
      },
      "execution_count": null,
      "outputs": []
    },
    {
      "cell_type": "code",
      "source": [
        "arr"
      ],
      "metadata": {
        "colab": {
          "base_uri": "https://localhost:8080/"
        },
        "id": "-HZskW3xTHjg",
        "outputId": "440af337-c5e3-426c-fcf8-065d5964d5d2"
      },
      "execution_count": null,
      "outputs": [
        {
          "output_type": "execute_result",
          "data": {
            "text/plain": [
              "array([1, 2, 3, 4])"
            ]
          },
          "metadata": {},
          "execution_count": 12
        }
      ]
    },
    {
      "cell_type": "code",
      "source": [
        "arr.ndim"
      ],
      "metadata": {
        "colab": {
          "base_uri": "https://localhost:8080/"
        },
        "id": "-G37hd5fTJBA",
        "outputId": "3665c552-eab3-462e-a13b-ef363410fd14"
      },
      "execution_count": null,
      "outputs": [
        {
          "output_type": "execute_result",
          "data": {
            "text/plain": [
              "1"
            ]
          },
          "metadata": {},
          "execution_count": 13
        }
      ]
    },
    {
      "cell_type": "code",
      "source": [
        "## 2-D Tensors/Metrix\n",
        "mat= np.array([[1,2,3],[4,5,6],[7,8,9]])"
      ],
      "metadata": {
        "id": "vjJa09SaTNbS"
      },
      "execution_count": null,
      "outputs": []
    },
    {
      "cell_type": "code",
      "source": [
        "mat"
      ],
      "metadata": {
        "colab": {
          "base_uri": "https://localhost:8080/"
        },
        "id": "rPG-q5-PVGkO",
        "outputId": "724cd270-6186-4944-aa7f-268ba7e54933"
      },
      "execution_count": null,
      "outputs": [
        {
          "output_type": "execute_result",
          "data": {
            "text/plain": [
              "array([[1, 2, 3],\n",
              "       [4, 5, 6],\n",
              "       [7, 8, 9]])"
            ]
          },
          "metadata": {},
          "execution_count": 15
        }
      ]
    },
    {
      "cell_type": "code",
      "source": [
        "## Raws and columns\n",
        "mat.ndim"
      ],
      "metadata": {
        "colab": {
          "base_uri": "https://localhost:8080/"
        },
        "id": "a6TM20lPVImv",
        "outputId": "60a38087-ae92-4843-83eb-57c7afd129c7"
      },
      "execution_count": null,
      "outputs": [
        {
          "output_type": "execute_result",
          "data": {
            "text/plain": [
              "2"
            ]
          },
          "metadata": {},
          "execution_count": 16
        }
      ]
    },
    {
      "cell_type": "code",
      "source": [
        "## N-D Tensor(3D-Combination of metrics)\n"
      ],
      "metadata": {
        "id": "Ewwv6hekVMlh"
      },
      "execution_count": null,
      "outputs": []
    },
    {
      "cell_type": "code",
      "source": [
        "## 4-D Tensors(Vector/Collection of 3D Tensors)\n"
      ],
      "metadata": {
        "id": "_rKlHEmAW9w_"
      },
      "execution_count": null,
      "outputs": []
    },
    {
      "cell_type": "code",
      "source": [
        "## 5-D Tensors and 6-D"
      ],
      "metadata": {
        "id": "ub_EQjriXiUz"
      },
      "execution_count": null,
      "outputs": []
    },
    {
      "cell_type": "code",
      "source": [
        "## shape ->(3,3),(3,2)\n",
        "## size of tensor ->(3,3) = 9"
      ],
      "metadata": {
        "id": "jUXznecRYcz8"
      },
      "execution_count": null,
      "outputs": []
    },
    {
      "cell_type": "code",
      "source": [
        "## [[[2,2,2][2,4,3]][[3,3,4],[3,3,5]],[[5,7,9],[3,8,6]]]\n",
        " ##3d tensor size = 3 x 2 x 3 = 18"
      ],
      "metadata": {
        "id": "x31e-gpcc-Y8"
      },
      "execution_count": null,
      "outputs": []
    },
    {
      "cell_type": "code",
      "source": [
        "## 4D Tensor - Set of images\n",
        "## 5D Tensor - Set of videos"
      ],
      "metadata": {
        "id": "d9CPD-h4d2c7"
      },
      "execution_count": null,
      "outputs": []
    },
    {
      "cell_type": "code",
      "source": [
        ""
      ],
      "metadata": {
        "id": "o6DI6laJhbZU"
      },
      "execution_count": null,
      "outputs": []
    }
  ]
}